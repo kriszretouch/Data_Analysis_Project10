{
 "cells": [
  {
   "cell_type": "code",
   "execution_count": 1,
   "id": "58267760",
   "metadata": {},
   "outputs": [],
   "source": [
    "#importing various packages\n",
    "import pandas as pd\n",
    "import numpy as np\n",
    "import seaborn as sns"
   ]
  },
  {
   "cell_type": "code",
   "execution_count": 2,
   "id": "57dd06ca",
   "metadata": {},
   "outputs": [],
   "source": [
    "#reading the dataset\n",
    "df=pd.read_csv('F:\\\\Unified Mentor Internship\\\\Heart Disease data\\\\Heart Disease data\\\\Heart Disease Data.csv')"
   ]
  },
  {
   "cell_type": "code",
   "execution_count": 3,
   "id": "ff1fb988",
   "metadata": {},
   "outputs": [
    {
     "data": {
      "text/html": [
       "<div>\n",
       "<style scoped>\n",
       "    .dataframe tbody tr th:only-of-type {\n",
       "        vertical-align: middle;\n",
       "    }\n",
       "\n",
       "    .dataframe tbody tr th {\n",
       "        vertical-align: top;\n",
       "    }\n",
       "\n",
       "    .dataframe thead th {\n",
       "        text-align: right;\n",
       "    }\n",
       "</style>\n",
       "<table border=\"1\" class=\"dataframe\">\n",
       "  <thead>\n",
       "    <tr style=\"text-align: right;\">\n",
       "      <th></th>\n",
       "      <th>Sl_No</th>\n",
       "      <th>Age</th>\n",
       "      <th>Gender</th>\n",
       "      <th>CP</th>\n",
       "      <th>RBP(Diastolic)</th>\n",
       "      <th>SC</th>\n",
       "      <th>FBS</th>\n",
       "      <th>RER</th>\n",
       "      <th>MHRA</th>\n",
       "      <th>EIE</th>\n",
       "      <th>Oldpeak</th>\n",
       "      <th>Slope</th>\n",
       "      <th>Flourosopy</th>\n",
       "      <th>Thallium Test</th>\n",
       "      <th>HD</th>\n",
       "    </tr>\n",
       "  </thead>\n",
       "  <tbody>\n",
       "    <tr>\n",
       "      <th>0</th>\n",
       "      <td>1</td>\n",
       "      <td>52</td>\n",
       "      <td>Male</td>\n",
       "      <td>0</td>\n",
       "      <td>125</td>\n",
       "      <td>212</td>\n",
       "      <td>0</td>\n",
       "      <td>1</td>\n",
       "      <td>168</td>\n",
       "      <td>0</td>\n",
       "      <td>1.0</td>\n",
       "      <td>2</td>\n",
       "      <td>2</td>\n",
       "      <td>2</td>\n",
       "      <td>0</td>\n",
       "    </tr>\n",
       "    <tr>\n",
       "      <th>1</th>\n",
       "      <td>2</td>\n",
       "      <td>53</td>\n",
       "      <td>Male</td>\n",
       "      <td>0</td>\n",
       "      <td>140</td>\n",
       "      <td>203</td>\n",
       "      <td>1</td>\n",
       "      <td>0</td>\n",
       "      <td>155</td>\n",
       "      <td>1</td>\n",
       "      <td>3.1</td>\n",
       "      <td>0</td>\n",
       "      <td>0</td>\n",
       "      <td>2</td>\n",
       "      <td>0</td>\n",
       "    </tr>\n",
       "    <tr>\n",
       "      <th>2</th>\n",
       "      <td>3</td>\n",
       "      <td>70</td>\n",
       "      <td>Male</td>\n",
       "      <td>0</td>\n",
       "      <td>145</td>\n",
       "      <td>174</td>\n",
       "      <td>0</td>\n",
       "      <td>1</td>\n",
       "      <td>125</td>\n",
       "      <td>1</td>\n",
       "      <td>2.6</td>\n",
       "      <td>0</td>\n",
       "      <td>0</td>\n",
       "      <td>2</td>\n",
       "      <td>0</td>\n",
       "    </tr>\n",
       "    <tr>\n",
       "      <th>3</th>\n",
       "      <td>4</td>\n",
       "      <td>61</td>\n",
       "      <td>Male</td>\n",
       "      <td>0</td>\n",
       "      <td>148</td>\n",
       "      <td>203</td>\n",
       "      <td>0</td>\n",
       "      <td>1</td>\n",
       "      <td>161</td>\n",
       "      <td>0</td>\n",
       "      <td>0.0</td>\n",
       "      <td>2</td>\n",
       "      <td>1</td>\n",
       "      <td>2</td>\n",
       "      <td>0</td>\n",
       "    </tr>\n",
       "    <tr>\n",
       "      <th>4</th>\n",
       "      <td>5</td>\n",
       "      <td>62</td>\n",
       "      <td>Female</td>\n",
       "      <td>0</td>\n",
       "      <td>138</td>\n",
       "      <td>294</td>\n",
       "      <td>1</td>\n",
       "      <td>1</td>\n",
       "      <td>106</td>\n",
       "      <td>0</td>\n",
       "      <td>1.9</td>\n",
       "      <td>1</td>\n",
       "      <td>3</td>\n",
       "      <td>2</td>\n",
       "      <td>0</td>\n",
       "    </tr>\n",
       "  </tbody>\n",
       "</table>\n",
       "</div>"
      ],
      "text/plain": [
       "   Sl_No  Age  Gender  CP  RBP(Diastolic)   SC  FBS  RER  MHRA  EIE  Oldpeak  \\\n",
       "0      1   52    Male   0             125  212    0    1   168    0      1.0   \n",
       "1      2   53    Male   0             140  203    1    0   155    1      3.1   \n",
       "2      3   70    Male   0             145  174    0    1   125    1      2.6   \n",
       "3      4   61    Male   0             148  203    0    1   161    0      0.0   \n",
       "4      5   62  Female   0             138  294    1    1   106    0      1.9   \n",
       "\n",
       "   Slope  Flourosopy  Thallium Test  HD  \n",
       "0      2           2              2   0  \n",
       "1      0           0              2   0  \n",
       "2      0           0              2   0  \n",
       "3      2           1              2   0  \n",
       "4      1           3              2   0  "
      ]
     },
     "execution_count": 3,
     "metadata": {},
     "output_type": "execute_result"
    }
   ],
   "source": [
    "#checking the data\n",
    "df.head()"
   ]
  },
  {
   "cell_type": "code",
   "execution_count": 4,
   "id": "acd79f6a",
   "metadata": {},
   "outputs": [
    {
     "data": {
      "text/plain": [
       "Sl_No             0\n",
       "Age               0\n",
       "Gender            0\n",
       "CP                0\n",
       "RBP(Diastolic)    0\n",
       "SC                0\n",
       "FBS               0\n",
       "RER               0\n",
       "MHRA              0\n",
       "EIE               0\n",
       "Oldpeak           0\n",
       "Slope             0\n",
       "Flourosopy        0\n",
       "Thallium Test     0\n",
       "HD                0\n",
       "dtype: int64"
      ]
     },
     "execution_count": 4,
     "metadata": {},
     "output_type": "execute_result"
    }
   ],
   "source": [
    "#checking null values\n",
    "df.isna().sum()"
   ]
  },
  {
   "cell_type": "code",
   "execution_count": 5,
   "id": "9c9bc2e2",
   "metadata": {},
   "outputs": [],
   "source": [
    "#There are no null values in any of the columns"
   ]
  },
  {
   "cell_type": "code",
   "execution_count": 6,
   "id": "37e9cde8",
   "metadata": {},
   "outputs": [],
   "source": [
    "#now we will check for outliers"
   ]
  },
  {
   "cell_type": "code",
   "execution_count": 7,
   "id": "313f61f0",
   "metadata": {},
   "outputs": [
    {
     "data": {
      "text/plain": [
       "<AxesSubplot:xlabel='Age'>"
      ]
     },
     "execution_count": 7,
     "metadata": {},
     "output_type": "execute_result"
    },
    {
     "data": {
      "image/png": "[encoded data removed]",
      "text/plain": [
       "<Figure size 640x480 with 1 Axes>"
      ]
     },
     "metadata": {},
     "output_type": "display_data"
    }
   ],
   "source": [
    "#checking outliers in Age Column\n",
    "sns.boxplot(data=df,x='Age')"
   ]
  },
  {
   "cell_type": "code",
   "execution_count": 8,
   "id": "9438c3da",
   "metadata": {},
   "outputs": [],
   "source": [
    "#there are no outliers in Age column"
   ]
  },
  {
   "cell_type": "code",
   "execution_count": 9,
   "id": "e0a7c1a6",
   "metadata": {},
   "outputs": [
    {
     "data": {
      "text/plain": [
       "<AxesSubplot:xlabel='RBP(Diastolic)'>"
      ]
     },
     "execution_count": 9,
     "metadata": {},
     "output_type": "execute_result"
    },
    {
     "data": {
      "image/png": "[encoded data removed]",
      "text/plain": [
       "<Figure size 640x480 with 1 Axes>"
      ]
     },
     "metadata": {},
     "output_type": "display_data"
    }
   ],
   "source": [
    "#checking outliers in RBP(Diastolic) Column\n",
    "sns.boxplot(data=df,x='RBP(Diastolic)')"
   ]
  },
  {
   "cell_type": "code",
   "execution_count": 10,
   "id": "4b1f35e5",
   "metadata": {},
   "outputs": [],
   "source": [
    "#we can see there are some outliers in RBP(Diastolic) column. But we will not remove them. \n",
    "#We will replace those outliers with median value"
   ]
  },
  {
   "cell_type": "code",
   "execution_count": 11,
   "id": "c981cafb",
   "metadata": {},
   "outputs": [],
   "source": [
    "# Calculating the Interquartile Range (IQR)\n",
    "q1 = df[\"RBP(Diastolic)\"].quantile(0.25)\n",
    "q3 = df[\"RBP(Diastolic)\"].quantile(0.75)\n",
    "iqr = q3 - q1\n",
    "\n",
    "# Defining the lower and upper bounds for outliers\n",
    "lower_bound = q1 - 1.5 * iqr\n",
    "upper_bound = q3 + 1.5 * iqr\n",
    "\n",
    "# Identifying outliers\n",
    "outliers = (df[\"RBP(Diastolic)\"] < lower_bound) | (df[\"RBP(Diastolic)\"] > upper_bound)\n",
    "\n",
    "# Replace outliers with the median value\n",
    "df.loc[outliers, \"RBP(Diastolic)\"] = df[\"RBP(Diastolic)\"].median()"
   ]
  },
  {
   "cell_type": "code",
   "execution_count": 12,
   "id": "3ee7520c",
   "metadata": {},
   "outputs": [
    {
     "data": {
      "text/plain": [
       "<AxesSubplot:xlabel='RBP(Diastolic)'>"
      ]
     },
     "execution_count": 12,
     "metadata": {},
     "output_type": "execute_result"
    },
    {
     "data": {
      "image/png": "[encoded data removed]",
      "text/plain": [
       "<Figure size 640x480 with 1 Axes>"
      ]
     },
     "metadata": {},
     "output_type": "display_data"
    }
   ],
   "source": [
    "#checking outliers in RBP(Diastolic) Column\n",
    "sns.boxplot(data=df,x='RBP(Diastolic)')"
   ]
  },
  {
   "cell_type": "code",
   "execution_count": 13,
   "id": "dd2499cb",
   "metadata": {},
   "outputs": [],
   "source": [
    "#there are no outliers left in the RBP(Diastolic) column"
   ]
  },
  {
   "cell_type": "code",
   "execution_count": 14,
   "id": "494aba1e",
   "metadata": {},
   "outputs": [
    {
     "data": {
      "text/plain": [
       "<AxesSubplot:xlabel='SC'>"
      ]
     },
     "execution_count": 14,
     "metadata": {},
     "output_type": "execute_result"
    },
    {
     "data": {
      "image/png": "[encoded data removed]",
      "text/plain": [
       "<Figure size 640x480 with 1 Axes>"
      ]
     },
     "metadata": {},
     "output_type": "display_data"
    }
   ],
   "source": [
    "#checking outliers in SC Column\n",
    "sns.boxplot(data=df,x='SC')"
   ]
  },
  {
   "cell_type": "code",
   "execution_count": 15,
   "id": "e49013cb",
   "metadata": {},
   "outputs": [],
   "source": [
    "#there are some outliers.We will replace them with median value"
   ]
  },
  {
   "cell_type": "code",
   "execution_count": 16,
   "id": "ef27219a",
   "metadata": {},
   "outputs": [],
   "source": [
    "# Calculating the Interquartile Range (IQR)\n",
    "q1 = df[\"SC\"].quantile(0.25)\n",
    "q3 = df[\"SC\"].quantile(0.75)\n",
    "iqr = q3 - q1\n",
    "\n",
    "# Defining the lower and upper bounds for outliers\n",
    "lower_bound = q1 - 1.5 * iqr\n",
    "upper_bound = q3 + 1.5 * iqr\n",
    "\n",
    "# Identifying outliers\n",
    "outliers = (df[\"SC\"] < lower_bound) | (df[\"SC\"] > upper_bound)\n",
    "\n",
    "# Replace outliers with the median value\n",
    "df.loc[outliers, \"SC\"] = df[\"SC\"].median()"
   ]
  },
  {
   "cell_type": "code",
   "execution_count": 17,
   "id": "04c88d2f",
   "metadata": {},
   "outputs": [
    {
     "data": {
      "text/plain": [
       "<AxesSubplot:xlabel='SC'>"
      ]
     },
     "execution_count": 17,
     "metadata": {},
     "output_type": "execute_result"
    },
    {
     "data": {
      "image/png": "[encoded data removed]",
      "text/plain": [
       "<Figure size 640x480 with 1 Axes>"
      ]
     },
     "metadata": {},
     "output_type": "display_data"
    }
   ],
   "source": [
    "#checking outliers in SC Column\n",
    "sns.boxplot(data=df,x='SC')"
   ]
  },
  {
   "cell_type": "code",
   "execution_count": 18,
   "id": "118e5285",
   "metadata": {},
   "outputs": [],
   "source": [
    "#there are no outliers left in the SC column"
   ]
  },
  {
   "cell_type": "code",
   "execution_count": 19,
   "id": "6e158c14",
   "metadata": {},
   "outputs": [
    {
     "data": {
      "text/plain": [
       "<AxesSubplot:xlabel='MHRA'>"
      ]
     },
     "execution_count": 19,
     "metadata": {},
     "output_type": "execute_result"
    },
    {
     "data": {
      "image/png": "[encoded data removed]",
      "text/plain": [
       "<Figure size 640x480 with 1 Axes>"
      ]
     },
     "metadata": {},
     "output_type": "display_data"
    }
   ],
   "source": [
    "#checking outliers in MHRA Column\n",
    "sns.boxplot(data=df,x='MHRA')"
   ]
  },
  {
   "cell_type": "code",
   "execution_count": 20,
   "id": "f21c2491",
   "metadata": {},
   "outputs": [],
   "source": [
    "#there are some outliers.We will replace them with median value"
   ]
  },
  {
   "cell_type": "code",
   "execution_count": 21,
   "id": "f72a04c0",
   "metadata": {},
   "outputs": [],
   "source": [
    "# Calculating the Interquartile Range (IQR)\n",
    "q1 = df[\"MHRA\"].quantile(0.25)\n",
    "q3 = df[\"MHRA\"].quantile(0.75)\n",
    "iqr = q3 - q1\n",
    "\n",
    "# Defining the lower and upper bounds for outliers\n",
    "lower_bound = q1 - 1.5 * iqr\n",
    "upper_bound = q3 + 1.5 * iqr\n",
    "\n",
    "# Identifying outliers\n",
    "outliers = (df[\"MHRA\"] < lower_bound) | (df[\"MHRA\"] > upper_bound)\n",
    "\n",
    "# Replace outliers with the median value\n",
    "df.loc[outliers, \"MHRA\"] = df[\"MHRA\"].median()"
   ]
  },
  {
   "cell_type": "code",
   "execution_count": 22,
   "id": "7d746b5b",
   "metadata": {},
   "outputs": [
    {
     "data": {
      "text/plain": [
       "<AxesSubplot:xlabel='MHRA'>"
      ]
     },
     "execution_count": 22,
     "metadata": {},
     "output_type": "execute_result"
    },
    {
     "data": {
      "image/png": "[encoded data removed]",
      "text/plain": [
       "<Figure size 640x480 with 1 Axes>"
      ]
     },
     "metadata": {},
     "output_type": "display_data"
    }
   ],
   "source": [
    "#checking outliers in MHRA Column\n",
    "sns.boxplot(data=df,x='MHRA')"
   ]
  },
  {
   "cell_type": "code",
   "execution_count": 23,
   "id": "55b6f5a4",
   "metadata": {},
   "outputs": [],
   "source": [
    "#there are no outliers left in the MHRA column"
   ]
  },
  {
   "cell_type": "code",
   "execution_count": 24,
   "id": "ad62c2ae",
   "metadata": {},
   "outputs": [
    {
     "data": {
      "text/plain": [
       "<AxesSubplot:xlabel='Oldpeak'>"
      ]
     },
     "execution_count": 24,
     "metadata": {},
     "output_type": "execute_result"
    },
    {
     "data": {
      "image/png": "[encoded data removed]",
      "text/plain": [
       "<Figure size 640x480 with 1 Axes>"
      ]
     },
     "metadata": {},
     "output_type": "display_data"
    }
   ],
   "source": [
    "#checking outliers in Oldpeak Column\n",
    "sns.boxplot(data=df,x='Oldpeak')"
   ]
  },
  {
   "cell_type": "code",
   "execution_count": 25,
   "id": "f95eecf6",
   "metadata": {},
   "outputs": [],
   "source": [
    "#there are some outliers.We will replace them with median value"
   ]
  },
  {
   "cell_type": "code",
   "execution_count": 26,
   "id": "f3273c8e",
   "metadata": {},
   "outputs": [],
   "source": [
    "# Calculating the Interquartile Range (IQR)\n",
    "q1 = df[\"Oldpeak\"].quantile(0.25)\n",
    "q3 = df[\"Oldpeak\"].quantile(0.75)\n",
    "iqr = q3 - q1\n",
    "\n",
    "# Defining the lower and upper bounds for outliers\n",
    "lower_bound = q1 - 1.5 * iqr\n",
    "upper_bound = q3 + 1.5 * iqr\n",
    "\n",
    "# Identifying outliers\n",
    "outliers = (df[\"Oldpeak\"] < lower_bound) | (df[\"Oldpeak\"] > upper_bound)\n",
    "\n",
    "# Replace outliers with the median value\n",
    "df.loc[outliers, \"Oldpeak\"] = df[\"Oldpeak\"].median()"
   ]
  },
  {
   "cell_type": "code",
   "execution_count": 27,
   "id": "f45ffbb2",
   "metadata": {},
   "outputs": [
    {
     "data": {
      "text/plain": [
       "<AxesSubplot:xlabel='Oldpeak'>"
      ]
     },
     "execution_count": 27,
     "metadata": {},
     "output_type": "execute_result"
    },
    {
     "data": {
      "image/png": "[encoded data removed]",
      "text/plain": [
       "<Figure size 640x480 with 1 Axes>"
      ]
     },
     "metadata": {},
     "output_type": "display_data"
    }
   ],
   "source": [
    "#checking outliers in Oldpeak Column\n",
    "sns.boxplot(data=df,x='Oldpeak')"
   ]
  },
  {
   "cell_type": "code",
   "execution_count": 28,
   "id": "84eadd2a",
   "metadata": {},
   "outputs": [],
   "source": [
    "#as the outliers are still there, we will repeat the same process one more time"
   ]
  },
  {
   "cell_type": "code",
   "execution_count": 29,
   "id": "2e2c505c",
   "metadata": {},
   "outputs": [],
   "source": [
    "# Calculating the Interquartile Range (IQR)\n",
    "q1 = df[\"Oldpeak\"].quantile(0.25)\n",
    "q3 = df[\"Oldpeak\"].quantile(0.75)\n",
    "iqr = q3 - q1\n",
    "\n",
    "# Defining the lower and upper bounds for outliers\n",
    "lower_bound = q1 - 1.5 * iqr\n",
    "upper_bound = q3 + 1.5 * iqr\n",
    "\n",
    "# Identifying outliers\n",
    "outliers = (df[\"Oldpeak\"] < lower_bound) | (df[\"Oldpeak\"] > upper_bound)\n",
    "\n",
    "# Replace outliers with the median value\n",
    "df.loc[outliers, \"Oldpeak\"] = df[\"Oldpeak\"].median()"
   ]
  },
  {
   "cell_type": "code",
   "execution_count": 30,
   "id": "66f7f3cb",
   "metadata": {},
   "outputs": [
    {
     "data": {
      "text/plain": [
       "<AxesSubplot:xlabel='Oldpeak'>"
      ]
     },
     "execution_count": 30,
     "metadata": {},
     "output_type": "execute_result"
    },
    {
     "data": {
      "image/png": "[encoded data removed]",
      "text/plain": [
       "<Figure size 640x480 with 1 Axes>"
      ]
     },
     "metadata": {},
     "output_type": "display_data"
    }
   ],
   "source": [
    "#checking outliers in Oldpeak Column\n",
    "sns.boxplot(data=df,x='Oldpeak')"
   ]
  },
  {
   "cell_type": "code",
   "execution_count": 31,
   "id": "e64bf316",
   "metadata": {},
   "outputs": [],
   "source": [
    "#there are no outliers left in the Oldpeak column"
   ]
  },
  {
   "cell_type": "code",
   "execution_count": 34,
   "id": "5e5abf4d",
   "metadata": {},
   "outputs": [],
   "source": [
    "#But some values of Oldpeak column has value 0, which is practically not correct. \n",
    "#So, we replace those values with the median of Oldpeak\n",
    "# Replace 0 values in \"Oldpeak\" with the median\n",
    "df.loc[df[\"Oldpeak\"] == 0, \"Oldpeak\"] = df[\"Oldpeak\"].median()"
   ]
  },
  {
   "cell_type": "code",
   "execution_count": 35,
   "id": "05c73681",
   "metadata": {},
   "outputs": [
    {
     "data": {
      "text/html": [
       "<div>\n",
       "<style scoped>\n",
       "    .dataframe tbody tr th:only-of-type {\n",
       "        vertical-align: middle;\n",
       "    }\n",
       "\n",
       "    .dataframe tbody tr th {\n",
       "        vertical-align: top;\n",
       "    }\n",
       "\n",
       "    .dataframe thead th {\n",
       "        text-align: right;\n",
       "    }\n",
       "</style>\n",
       "<table border=\"1\" class=\"dataframe\">\n",
       "  <thead>\n",
       "    <tr style=\"text-align: right;\">\n",
       "      <th></th>\n",
       "      <th>Sl_No</th>\n",
       "      <th>Age</th>\n",
       "      <th>Gender</th>\n",
       "      <th>CP</th>\n",
       "      <th>RBP(Diastolic)</th>\n",
       "      <th>SC</th>\n",
       "      <th>FBS</th>\n",
       "      <th>RER</th>\n",
       "      <th>MHRA</th>\n",
       "      <th>EIE</th>\n",
       "      <th>Oldpeak</th>\n",
       "      <th>Slope</th>\n",
       "      <th>Flourosopy</th>\n",
       "      <th>Thallium Test</th>\n",
       "      <th>HD</th>\n",
       "    </tr>\n",
       "  </thead>\n",
       "  <tbody>\n",
       "    <tr>\n",
       "      <th>77</th>\n",
       "      <td>78</td>\n",
       "      <td>63</td>\n",
       "      <td>Male</td>\n",
       "      <td>0</td>\n",
       "      <td>140</td>\n",
       "      <td>187</td>\n",
       "      <td>0</td>\n",
       "      <td>0</td>\n",
       "      <td>144</td>\n",
       "      <td>1</td>\n",
       "      <td>4.0</td>\n",
       "      <td>2</td>\n",
       "      <td>2</td>\n",
       "      <td>2</td>\n",
       "      <td>0</td>\n",
       "    </tr>\n",
       "    <tr>\n",
       "      <th>75</th>\n",
       "      <td>76</td>\n",
       "      <td>47</td>\n",
       "      <td>Male</td>\n",
       "      <td>2</td>\n",
       "      <td>138</td>\n",
       "      <td>257</td>\n",
       "      <td>0</td>\n",
       "      <td>0</td>\n",
       "      <td>156</td>\n",
       "      <td>0</td>\n",
       "      <td>0.8</td>\n",
       "      <td>2</td>\n",
       "      <td>0</td>\n",
       "      <td>2</td>\n",
       "      <td>1</td>\n",
       "    </tr>\n",
       "    <tr>\n",
       "      <th>939</th>\n",
       "      <td>940</td>\n",
       "      <td>49</td>\n",
       "      <td>Female</td>\n",
       "      <td>1</td>\n",
       "      <td>134</td>\n",
       "      <td>271</td>\n",
       "      <td>0</td>\n",
       "      <td>1</td>\n",
       "      <td>162</td>\n",
       "      <td>0</td>\n",
       "      <td>0.8</td>\n",
       "      <td>1</td>\n",
       "      <td>0</td>\n",
       "      <td>2</td>\n",
       "      <td>1</td>\n",
       "    </tr>\n",
       "    <tr>\n",
       "      <th>653</th>\n",
       "      <td>654</td>\n",
       "      <td>56</td>\n",
       "      <td>Male</td>\n",
       "      <td>0</td>\n",
       "      <td>130</td>\n",
       "      <td>283</td>\n",
       "      <td>1</td>\n",
       "      <td>0</td>\n",
       "      <td>103</td>\n",
       "      <td>1</td>\n",
       "      <td>1.6</td>\n",
       "      <td>0</td>\n",
       "      <td>0</td>\n",
       "      <td>2</td>\n",
       "      <td>0</td>\n",
       "    </tr>\n",
       "    <tr>\n",
       "      <th>530</th>\n",
       "      <td>531</td>\n",
       "      <td>60</td>\n",
       "      <td>Female</td>\n",
       "      <td>0</td>\n",
       "      <td>150</td>\n",
       "      <td>258</td>\n",
       "      <td>0</td>\n",
       "      <td>0</td>\n",
       "      <td>157</td>\n",
       "      <td>0</td>\n",
       "      <td>2.6</td>\n",
       "      <td>1</td>\n",
       "      <td>2</td>\n",
       "      <td>2</td>\n",
       "      <td>0</td>\n",
       "    </tr>\n",
       "    <tr>\n",
       "      <th>160</th>\n",
       "      <td>161</td>\n",
       "      <td>77</td>\n",
       "      <td>Male</td>\n",
       "      <td>0</td>\n",
       "      <td>125</td>\n",
       "      <td>304</td>\n",
       "      <td>0</td>\n",
       "      <td>0</td>\n",
       "      <td>162</td>\n",
       "      <td>1</td>\n",
       "      <td>0.8</td>\n",
       "      <td>2</td>\n",
       "      <td>3</td>\n",
       "      <td>2</td>\n",
       "      <td>0</td>\n",
       "    </tr>\n",
       "    <tr>\n",
       "      <th>825</th>\n",
       "      <td>826</td>\n",
       "      <td>63</td>\n",
       "      <td>Female</td>\n",
       "      <td>2</td>\n",
       "      <td>135</td>\n",
       "      <td>252</td>\n",
       "      <td>0</td>\n",
       "      <td>0</td>\n",
       "      <td>172</td>\n",
       "      <td>0</td>\n",
       "      <td>0.8</td>\n",
       "      <td>2</td>\n",
       "      <td>0</td>\n",
       "      <td>2</td>\n",
       "      <td>1</td>\n",
       "    </tr>\n",
       "    <tr>\n",
       "      <th>1008</th>\n",
       "      <td>1009</td>\n",
       "      <td>42</td>\n",
       "      <td>Male</td>\n",
       "      <td>1</td>\n",
       "      <td>120</td>\n",
       "      <td>295</td>\n",
       "      <td>0</td>\n",
       "      <td>1</td>\n",
       "      <td>162</td>\n",
       "      <td>0</td>\n",
       "      <td>0.8</td>\n",
       "      <td>2</td>\n",
       "      <td>0</td>\n",
       "      <td>2</td>\n",
       "      <td>1</td>\n",
       "    </tr>\n",
       "    <tr>\n",
       "      <th>303</th>\n",
       "      <td>304</td>\n",
       "      <td>60</td>\n",
       "      <td>Male</td>\n",
       "      <td>0</td>\n",
       "      <td>145</td>\n",
       "      <td>282</td>\n",
       "      <td>0</td>\n",
       "      <td>0</td>\n",
       "      <td>142</td>\n",
       "      <td>1</td>\n",
       "      <td>2.8</td>\n",
       "      <td>1</td>\n",
       "      <td>2</td>\n",
       "      <td>2</td>\n",
       "      <td>0</td>\n",
       "    </tr>\n",
       "    <tr>\n",
       "      <th>175</th>\n",
       "      <td>176</td>\n",
       "      <td>56</td>\n",
       "      <td>Female</td>\n",
       "      <td>0</td>\n",
       "      <td>130</td>\n",
       "      <td>288</td>\n",
       "      <td>1</td>\n",
       "      <td>0</td>\n",
       "      <td>133</td>\n",
       "      <td>1</td>\n",
       "      <td>4.0</td>\n",
       "      <td>0</td>\n",
       "      <td>2</td>\n",
       "      <td>2</td>\n",
       "      <td>0</td>\n",
       "    </tr>\n",
       "    <tr>\n",
       "      <th>130</th>\n",
       "      <td>131</td>\n",
       "      <td>60</td>\n",
       "      <td>Female</td>\n",
       "      <td>3</td>\n",
       "      <td>150</td>\n",
       "      <td>240</td>\n",
       "      <td>0</td>\n",
       "      <td>1</td>\n",
       "      <td>171</td>\n",
       "      <td>0</td>\n",
       "      <td>0.9</td>\n",
       "      <td>2</td>\n",
       "      <td>0</td>\n",
       "      <td>2</td>\n",
       "      <td>1</td>\n",
       "    </tr>\n",
       "    <tr>\n",
       "      <th>38</th>\n",
       "      <td>39</td>\n",
       "      <td>64</td>\n",
       "      <td>Male</td>\n",
       "      <td>0</td>\n",
       "      <td>128</td>\n",
       "      <td>263</td>\n",
       "      <td>0</td>\n",
       "      <td>1</td>\n",
       "      <td>105</td>\n",
       "      <td>1</td>\n",
       "      <td>0.2</td>\n",
       "      <td>1</td>\n",
       "      <td>1</td>\n",
       "      <td>2</td>\n",
       "      <td>1</td>\n",
       "    </tr>\n",
       "    <tr>\n",
       "      <th>655</th>\n",
       "      <td>656</td>\n",
       "      <td>41</td>\n",
       "      <td>Male</td>\n",
       "      <td>1</td>\n",
       "      <td>110</td>\n",
       "      <td>235</td>\n",
       "      <td>0</td>\n",
       "      <td>1</td>\n",
       "      <td>153</td>\n",
       "      <td>0</td>\n",
       "      <td>0.8</td>\n",
       "      <td>2</td>\n",
       "      <td>0</td>\n",
       "      <td>2</td>\n",
       "      <td>1</td>\n",
       "    </tr>\n",
       "    <tr>\n",
       "      <th>342</th>\n",
       "      <td>343</td>\n",
       "      <td>65</td>\n",
       "      <td>Female</td>\n",
       "      <td>2</td>\n",
       "      <td>155</td>\n",
       "      <td>269</td>\n",
       "      <td>0</td>\n",
       "      <td>1</td>\n",
       "      <td>148</td>\n",
       "      <td>0</td>\n",
       "      <td>0.8</td>\n",
       "      <td>2</td>\n",
       "      <td>0</td>\n",
       "      <td>2</td>\n",
       "      <td>1</td>\n",
       "    </tr>\n",
       "    <tr>\n",
       "      <th>162</th>\n",
       "      <td>163</td>\n",
       "      <td>77</td>\n",
       "      <td>Male</td>\n",
       "      <td>0</td>\n",
       "      <td>125</td>\n",
       "      <td>304</td>\n",
       "      <td>0</td>\n",
       "      <td>0</td>\n",
       "      <td>162</td>\n",
       "      <td>1</td>\n",
       "      <td>0.8</td>\n",
       "      <td>2</td>\n",
       "      <td>3</td>\n",
       "      <td>2</td>\n",
       "      <td>0</td>\n",
       "    </tr>\n",
       "    <tr>\n",
       "      <th>404</th>\n",
       "      <td>405</td>\n",
       "      <td>61</td>\n",
       "      <td>Male</td>\n",
       "      <td>0</td>\n",
       "      <td>140</td>\n",
       "      <td>207</td>\n",
       "      <td>0</td>\n",
       "      <td>0</td>\n",
       "      <td>138</td>\n",
       "      <td>1</td>\n",
       "      <td>1.9</td>\n",
       "      <td>2</td>\n",
       "      <td>1</td>\n",
       "      <td>2</td>\n",
       "      <td>0</td>\n",
       "    </tr>\n",
       "    <tr>\n",
       "      <th>661</th>\n",
       "      <td>662</td>\n",
       "      <td>58</td>\n",
       "      <td>Male</td>\n",
       "      <td>0</td>\n",
       "      <td>114</td>\n",
       "      <td>318</td>\n",
       "      <td>0</td>\n",
       "      <td>2</td>\n",
       "      <td>140</td>\n",
       "      <td>0</td>\n",
       "      <td>0.8</td>\n",
       "      <td>0</td>\n",
       "      <td>3</td>\n",
       "      <td>1</td>\n",
       "      <td>0</td>\n",
       "    </tr>\n",
       "    <tr>\n",
       "      <th>1013</th>\n",
       "      <td>1014</td>\n",
       "      <td>58</td>\n",
       "      <td>Male</td>\n",
       "      <td>0</td>\n",
       "      <td>114</td>\n",
       "      <td>318</td>\n",
       "      <td>0</td>\n",
       "      <td>2</td>\n",
       "      <td>140</td>\n",
       "      <td>0</td>\n",
       "      <td>0.8</td>\n",
       "      <td>0</td>\n",
       "      <td>3</td>\n",
       "      <td>1</td>\n",
       "      <td>0</td>\n",
       "    </tr>\n",
       "    <tr>\n",
       "      <th>152</th>\n",
       "      <td>153</td>\n",
       "      <td>58</td>\n",
       "      <td>Male</td>\n",
       "      <td>0</td>\n",
       "      <td>125</td>\n",
       "      <td>300</td>\n",
       "      <td>0</td>\n",
       "      <td>0</td>\n",
       "      <td>171</td>\n",
       "      <td>0</td>\n",
       "      <td>0.8</td>\n",
       "      <td>2</td>\n",
       "      <td>2</td>\n",
       "      <td>2</td>\n",
       "      <td>0</td>\n",
       "    </tr>\n",
       "    <tr>\n",
       "      <th>135</th>\n",
       "      <td>136</td>\n",
       "      <td>58</td>\n",
       "      <td>Female</td>\n",
       "      <td>0</td>\n",
       "      <td>170</td>\n",
       "      <td>225</td>\n",
       "      <td>1</td>\n",
       "      <td>0</td>\n",
       "      <td>146</td>\n",
       "      <td>1</td>\n",
       "      <td>2.8</td>\n",
       "      <td>1</td>\n",
       "      <td>2</td>\n",
       "      <td>1</td>\n",
       "      <td>0</td>\n",
       "    </tr>\n",
       "  </tbody>\n",
       "</table>\n",
       "</div>"
      ],
      "text/plain": [
       "      Sl_No  Age  Gender  CP  RBP(Diastolic)   SC  FBS  RER  MHRA  EIE  \\\n",
       "77       78   63    Male   0             140  187    0    0   144    1   \n",
       "75       76   47    Male   2             138  257    0    0   156    0   \n",
       "939     940   49  Female   1             134  271    0    1   162    0   \n",
       "653     654   56    Male   0             130  283    1    0   103    1   \n",
       "530     531   60  Female   0             150  258    0    0   157    0   \n",
       "160     161   77    Male   0             125  304    0    0   162    1   \n",
       "825     826   63  Female   2             135  252    0    0   172    0   \n",
       "1008   1009   42    Male   1             120  295    0    1   162    0   \n",
       "303     304   60    Male   0             145  282    0    0   142    1   \n",
       "175     176   56  Female   0             130  288    1    0   133    1   \n",
       "130     131   60  Female   3             150  240    0    1   171    0   \n",
       "38       39   64    Male   0             128  263    0    1   105    1   \n",
       "655     656   41    Male   1             110  235    0    1   153    0   \n",
       "342     343   65  Female   2             155  269    0    1   148    0   \n",
       "162     163   77    Male   0             125  304    0    0   162    1   \n",
       "404     405   61    Male   0             140  207    0    0   138    1   \n",
       "661     662   58    Male   0             114  318    0    2   140    0   \n",
       "1013   1014   58    Male   0             114  318    0    2   140    0   \n",
       "152     153   58    Male   0             125  300    0    0   171    0   \n",
       "135     136   58  Female   0             170  225    1    0   146    1   \n",
       "\n",
       "      Oldpeak  Slope  Flourosopy  Thallium Test  HD  \n",
       "77        4.0      2           2              2   0  \n",
       "75        0.8      2           0              2   1  \n",
       "939       0.8      1           0              2   1  \n",
       "653       1.6      0           0              2   0  \n",
       "530       2.6      1           2              2   0  \n",
       "160       0.8      2           3              2   0  \n",
       "825       0.8      2           0              2   1  \n",
       "1008      0.8      2           0              2   1  \n",
       "303       2.8      1           2              2   0  \n",
       "175       4.0      0           2              2   0  \n",
       "130       0.9      2           0              2   1  \n",
       "38        0.2      1           1              2   1  \n",
       "655       0.8      2           0              2   1  \n",
       "342       0.8      2           0              2   1  \n",
       "162       0.8      2           3              2   0  \n",
       "404       1.9      2           1              2   0  \n",
       "661       0.8      0           3              1   0  \n",
       "1013      0.8      0           3              1   0  \n",
       "152       0.8      2           2              2   0  \n",
       "135       2.8      1           2              1   0  "
      ]
     },
     "execution_count": 35,
     "metadata": {},
     "output_type": "execute_result"
    }
   ],
   "source": [
    "df.sample(20)"
   ]
  },
  {
   "cell_type": "code",
   "execution_count": 36,
   "id": "119a8f15",
   "metadata": {},
   "outputs": [],
   "source": [
    "#now our dataset is clean and without any outliers. We can do the analysis now\n",
    "#lets export the dataframe as csv file"
   ]
  },
  {
   "cell_type": "code",
   "execution_count": 38,
   "id": "023f4011",
   "metadata": {},
   "outputs": [],
   "source": [
    "df.to_csv('F:\\\\Unified Mentor Internship\\\\Project 10 Files\\\\Heart_Disease_Data.csv', index=False)"
   ]
  },
  {
   "cell_type": "code",
   "execution_count": null,
   "id": "09e6d6f8",
   "metadata": {},
   "outputs": [],
   "source": []
  }
 ],
 "metadata": {
  "kernelspec": {
   "display_name": "Python 3 (ipykernel)",
   "language": "python",
   "name": "python3"
  },
  "language_info": {
   "codemirror_mode": {
    "name": "ipython",
    "version": 3
   },
   "file_extension": ".py",
   "mimetype": "text/x-python",
   "name": "python",
   "nbconvert_exporter": "python",
   "pygments_lexer": "ipython3",
   "version": "3.10.7"
  }
 },
 "nbformat": 4,
 "nbformat_minor": 5
}
